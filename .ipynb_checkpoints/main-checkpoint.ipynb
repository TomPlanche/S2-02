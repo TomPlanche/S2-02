{
 "cells": [
  {
   "cell_type": "markdown",
   "metadata": {},
   "source": [
    "# Étape 1 - Garica et Planche"
   ]
  },
  {
   "cell_type": "markdown",
   "metadata": {},
   "source": [
    "## Importation des bibliothèques disponnibles."
   ]
  },
  {
   "cell_type": "code",
   "execution_count": 1,
   "metadata": {
    "pycharm": {
     "name": "#%%\n"
    }
   },
   "outputs": [],
   "source": [
    "import json # Pour gérer le fichier donneesbus.json\n",
    "import numpy as np # Pour les calculs avec les coordonnées GPS"
   ]
  },
  {
   "cell_type": "markdown",
   "metadata": {},
   "source": [
    "## Ouverture du fichier donneesbus.json et création du dictionnaire."
   ]
  },
  {
   "cell_type": "code",
   "execution_count": 2,
   "metadata": {},
   "outputs": [],
   "source": [
    "with open(\"Fichiers/donneesBus.json\") as fic_donnees_bus:\n",
    "    donneesBus = json.load(fic_donnees_bus)"
   ]
  },
  {
   "cell_type": "markdown",
   "metadata": {
    "pycharm": {
     "name": "#%% md\n"
    }
   },
   "source": [
    "## Travail à réaliser."
   ]
  },
  {
   "cell_type": "code",
   "execution_count": 4,
   "metadata": {
    "pycharm": {
     "name": "#%%\n"
    }
   },
   "outputs": [],
   "source": [
    "# Création d'une liste des noms des arrêts.\n",
    "noms_arrets = list(donneesBus.keys())\n",
    "\n",
    "\n",
    "def nom(ind: int) -> str:\n",
    "    \"\"\"\n",
    "    Renvoie le nom de l'arret à l'indice ind\n",
    "    :param ind: Indice de l'arrêt\n",
    "    :type ind: int\n",
    "    :return: nom de l'arrêt\n",
    "    :rtype: str\n",
    "    \"\"\"\n",
    "    return noms_arrets[ind]\n",
    "\n",
    "\n",
    "def indice_som(nom_som: str) -> int:\n",
    "    \"\"\"\n",
    "    Renvoie l'indice de l'arrêt à partir de son nom\n",
    "    :param nom_som: Nom de l'arrêt\n",
    "    :type nom_som: str\n",
    "    :return: indice de l'arrêt\n",
    "    :rtype: int\n",
    "    \"\"\"\n",
    "    return noms_arrets.index(nom_som)\n",
    "\n",
    "\n",
    "def lattitude(nom_som: str) -> float:\n",
    "    \"\"\"\n",
    "    Renvoie la lattitude de l'arrêt à partir de son nom\n",
    "    :param nom_som: Nom de l'arrêt\n",
    "    :type nom_som: str\n",
    "    :return: lattitude de l'arrêt\n",
    "    :rtype: float\n",
    "    \"\"\"\n",
    "    return donneesBus[nom_som][0]\n",
    "\n",
    "\n",
    "def longitude(nom_som: str) -> float:\n",
    "    \"\"\"\n",
    "    Renvoie la longitude de l'arrêt à partir de son nom\n",
    "    :param nom_som: Nom de l'arrêt\n",
    "    :type nom_som: str\n",
    "    :return: longitude de l'arrêt\n",
    "    :rtype: float\n",
    "    \"\"\"\n",
    "    return donneesBus[nom_som][1]\n",
    "\n",
    "\n",
    "def voisin(nom_som: str) -> list:\n",
    "    \"\"\"\n",
    "    Renvoie la liste des arrêts voisins à partir de son nom\n",
    "    :param nom_som: Nom de l'arrêt\n",
    "    :type nom_som: str\n",
    "    :return: liste des arrêts voisins\n",
    "    :rtype: list\n",
    "    \"\"\"\n",
    "    return donneesBus[nom_som][2]\n",
    "\n",
    "\n",
    "# Création de la liste d'adjacence sous forme d'une liste.\n",
    "mat_bus = [\n",
    "    [1 if nom_som in voisin(nom_som1) else 0 for nom_som in noms_arrets] for nom_som1 in noms_arrets\n",
    "]\n",
    "\n",
    "# Création de la liste d'adjacence sous forme d'un dictionnaire.\n",
    "dict_bus = {\n",
    "    nom_arret: voisin(nom_arret) for nom_arret in noms_arrets\n",
    "}\n",
    "\n",
    "\n",
    "def distance_gps(latA: float, longA: float, latB: float, longB: float) -> float:\n",
    "    \"\"\"\n",
    "    Renvoie la distance entre deux points GPS.\n",
    "    :param latA: lattitude du premier point\n",
    "    :type latA: float\n",
    "    :param longA: longitude du premier point\n",
    "    :type longA: float\n",
    "    :param latB: lattitude du second point\n",
    "    :type latB: float\n",
    "    :param longB: longitude du second point\n",
    "    :type longB: float\n",
    "    :return: distance entre les deux points\n",
    "    :rtype: float\n",
    "    \"\"\"\n",
    "    return round(\n",
    "        6378137\n",
    "        *\n",
    "        np.arccos(\n",
    "            np.cos(np.radians(latA)) *\n",
    "            np.cos(np.radians(latB)) *\n",
    "            np.cos(\n",
    "                    np.radians(longA) - np.radians(longB)\n",
    "            ) + np.sin(np.radians(latA)) *\n",
    "            np.sin(np.radians(latB))\n",
    "        )\n",
    "    )\n",
    "\n",
    "\n",
    "def distance_arrets(arret1, arret2) -> float:\n",
    "    \"\"\"\n",
    "    Renvoie la distance à vol d'oiseau entre deux arrêts.\n",
    "    :param arret1: nom de l'arrêt 1\n",
    "    :type arret1: str\n",
    "    :param arret2: nom de l'arrêt 2\n",
    "    :type arret2: str\n",
    "    :return: distance entre les deux arrêts\n",
    "    :rtype: float\n",
    "    \"\"\"\n",
    "    return distance_gps(\n",
    "        lattitude(arret1),\n",
    "        longitude(arret1),\n",
    "        lattitude(arret2),\n",
    "        longitude(arret2),\n",
    "    )\n",
    "\n",
    "\n",
    "def distance_arc(arret1, arret2) -> float:\n",
    "    \"\"\"\n",
    "    Renvoie la distance à vol d'oiseau entre deux arrêts si ils sont .\n",
    "    :param arret1: nom de l'arrêt 1\n",
    "    :type arret1: str\n",
    "    :param arret2: nom de l'arrêt 2\n",
    "    :type arret2: str\n",
    "    :return: distance entre les deux arrêts\n",
    "    :rtype: float\n",
    "    \"\"\"\n",
    "    return distance_gps(\n",
    "        lattitude(arret1),\n",
    "        longitude(arret1),\n",
    "        lattitude(arret2),\n",
    "        longitude(arret2),\n",
    "    ) if arret2 in voisin(arret1) or arret1 in voisin(arret2) else float(\"inf\")\n",
    "\n",
    "\n",
    "# Création de la matrice des poids sous forme d'une liste.\n",
    "poids_bus = [\n",
    "    [distance_arc(nom_som1, nom_som2) for nom_som2 in noms_arrets] for nom_som1 in noms_arrets\n",
    "]\n",
    "\n",
    "print(poids_bu)"
   ]
  },
  {
   "cell_type": "code",
   "execution_count": null,
   "metadata": {},
   "outputs": [],
   "source": []
  }
 ],
 "metadata": {
  "kernelspec": {
   "display_name": "Python 3 (ipykernel)",
   "language": "python",
   "name": "python3"
  },
  "language_info": {
   "codemirror_mode": {
    "name": "ipython",
    "version": 3
   },
   "file_extension": ".py",
   "mimetype": "text/x-python",
   "name": "python",
   "nbconvert_exporter": "python",
   "pygments_lexer": "ipython3",
   "version": "3.10.2"
  }
 },
 "nbformat": 4,
 "nbformat_minor": 1
}
