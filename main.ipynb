{
 "cells": [
  {
   "cell_type": "markdown",
   "metadata": {},
   "source": [
    "# Étape 2 - Garica et Planche"
   ]
  },
  {
   "cell_type": "markdown",
   "metadata": {},
   "source": [
    "## Importation des bibliothèques disponnibles"
   ]
  },
  {
   "cell_type": "code",
   "execution_count": 1,
   "metadata": {
    "pycharm": {
     "name": "#%%\n"
    }
   },
   "outputs": [],
   "source": [
    "import json # Pour gérer le fichier donneesbus.json\n",
    "from math import sin, cos, acos, pi, sqrt\n",
    "import time"
   ]
  },
  {
   "cell_type": "markdown",
   "metadata": {},
   "source": [
    "## Ouverture du fichier donneesbus.json et création du dictionnaire"
   ]
  },
  {
   "cell_type": "code",
   "execution_count": 2,
   "metadata": {},
   "outputs": [],
   "source": [
    "with open(\"Fichiers/donneesBus.json\") as fic_donnees_bus:\n",
    "    donneesBus = json.load(fic_donnees_bus)"
   ]
  },
  {
   "cell_type": "markdown",
   "metadata": {
    "pycharm": {
     "name": "#%% md\n"
    }
   },
   "source": [
    "## Travail à réaliser"
   ]
  },
  {
   "cell_type": "code",
   "execution_count": 3,
   "metadata": {
    "pycharm": {
     "name": "#%%\n"
    }
   },
   "outputs": [],
   "source": [
    "# Création d'une liste des noms des arrêts.\n",
    "noms_arrets = list(donneesBus.keys())\n",
    "\n",
    "\n",
    "def nom(ind: int) -> str:\n",
    "    \"\"\"\n",
    "    Renvoie le nom de l'arrêt à l'indice ind\n",
    "    :param ind: Indice de l'arrêt\n",
    "    :type ind: int\n",
    "    :return: nom de l'arrêt\n",
    "    :rtype: str\n",
    "    \"\"\"\n",
    "    return noms_arrets[ind]\n",
    "\n",
    "\n",
    "def indice_som(nom_som: str) -> int:\n",
    "    \"\"\"\n",
    "    Renvoie l'indice de l'arrêt à partir de son nom\n",
    "    :param nom_som: Nom de l'arrêt\n",
    "    :type nom_som: str\n",
    "    :return: indice de l'arrêt\n",
    "    :rtype: int\n",
    "    \"\"\"\n",
    "    return noms_arrets.index(nom_som)\n",
    "\n",
    "\n",
    "def lattitude(nom_som: str) -> float:\n",
    "    \"\"\"\n",
    "    Renvoie la lattitude de l'arrêt à partir de son nom\n",
    "    :param nom_som: Nom de l'arrêt\n",
    "    :type nom_som: str\n",
    "    :return: lattitude de l'arrêt\n",
    "    :rtype: float\n",
    "    \"\"\"\n",
    "    return donneesBus[nom_som][0]\n",
    "\n",
    "\n",
    "def longitude(nom_som: str) -> float:\n",
    "    \"\"\"\n",
    "    Renvoie la longitude de l'arrêt à partir de son nom\n",
    "    :param nom_som: Nom de l'arrêt\n",
    "    :type nom_som: str\n",
    "    :return: longitude de l'arrêt\n",
    "    :rtype: float\n",
    "    \"\"\"\n",
    "    return donneesBus[nom_som][1]\n",
    "\n",
    "\n",
    "def voisin(nom_som: str) -> list:\n",
    "    \"\"\"\n",
    "    Renvoie la liste des arrêts voisins à partir de son nom\n",
    "    :param nom_som: Nom de l'arrêt\n",
    "    :type nom_som: str\n",
    "    :return: liste des arrêts voisins\n",
    "    :rtype: list\n",
    "    \"\"\"\n",
    "    return donneesBus[nom_som][2]\n",
    "\n",
    "def extract_min(liste):\n",
    "    \"\"\"\n",
    "    Retourne le sommet de poids minimum de la liste liste.\n",
    "    Cf. Cours Mme Bruyère\n",
    "    \n",
    "    :param liste : liste des arrets\n",
    "    :type liste: list\n",
    "    :return: le sommet de poids minimum\n",
    "    :rtype: int\n",
    "    \"\"\"\n",
    "    minS = float(\"inf\")\n",
    "    valS = float(\"inf\")\n",
    "\n",
    "    for i in range (len(liste)):\n",
    "        if liste[i] < valS:\n",
    "            minS = i\n",
    "            valS = liste[i]\n",
    "\n",
    "    return minS\n",
    "\n",
    "# Création de la liste d'adjacence sous forme d'une liste.\n",
    "mat_bus = [\n",
    "    [1 if nom_som in voisin(nom_som1) else 0 for nom_som in noms_arrets] for nom_som1 in noms_arrets\n",
    "]\n",
    "\n",
    "# Création de la liste d'adjacence sous forme d'un dictionnaire.\n",
    "dict_bus = {\n",
    "    nom_arret: voisin(nom_arret) for nom_arret in noms_arrets\n",
    "}\n",
    "\n",
    "\n",
    "def distanceGPS(latA: float, latB: float, longA: float, longB: float) -> float:\n",
    "    \"\"\"\n",
    "    Retourne la distance en mètres entre deux points GPS.\n",
    "    :param latA: lattitude du premier point\n",
    "    :param latB: lattitude du deuxième point\n",
    "    :param longA: longitude du premier point\n",
    "    :param longB: longitude du deuxième point\n",
    "    :return:\n",
    "    \"\"\"\n",
    "    ltA = latA / 180 * pi\n",
    "    ltB = latB / 180 * pi\n",
    "    loA = longA / 180 * pi\n",
    "    loB = longB / 180 * pi\n",
    "    # Rayon de la terre en mètres (sphère IAG-GRS80)\n",
    "    RT = 6378137\n",
    "    # angle en radians entre les 2 points\n",
    "    S = acos(round(sin(ltA) * sin(ltB) + cos(ltA) * cos(ltB) * cos(abs(loB - loA)), 14))\n",
    "    # distance entre les 2 points, comptée sur un arc de grand cercle\n",
    "    return S * RT\n",
    "\n",
    "\n",
    "def distance_arrets(arret1: str, arret2: str) -> float:\n",
    "    \"\"\"\n",
    "    Renvoie la distance à vol d'oiseau entre deux arrêts.\n",
    "    :param arret1: nom de l'arrêt 1\n",
    "    :type arret1: str\n",
    "    :param arret2: nom de l'arrêt 2\n",
    "    :type arret2: str\n",
    "    :return: distance entre les deux arrêts\n",
    "    :rtype: float\n",
    "    \"\"\"\n",
    "    return distanceGPS(\n",
    "        lattitude(arret1),\n",
    "        lattitude(arret2),\n",
    "        longitude(arret1),\n",
    "        longitude(arret2),\n",
    "    )\n",
    "\n",
    "\n",
    "def distance_arc(arret1: str, arret2: str) -> float:\n",
    "    \"\"\"\n",
    "    Renvoie la distance à vol d'oiseau entre deux arrêts s'ils sont.\n",
    "    :param arret1: nom de l'arrêt 1\n",
    "    :type arret1: str\n",
    "    :param arret2: nom de l'arrêt 2\n",
    "    :type arret2: str\n",
    "    :return: distance entre les deux arrêts\n",
    "    :rtype: float\n",
    "    \"\"\"\n",
    "    return distanceGPS(\n",
    "        lattitude(arret1),\n",
    "        lattitude(arret2),\n",
    "        longitude(arret1),\n",
    "        longitude(arret2),\n",
    "    ) if arret2 in voisin(arret1) else float(\"inf\")\n",
    "\n",
    "\n",
    "# Création de la matrice des poids sous forme d'une liste.\n",
    "poids_bus = [\n",
    "    [distance_arc(nom_som1, nom_som2) for nom_som2 in noms_arrets] for nom_som1 in noms_arrets\n",
    "]"
   ]
  },
  {
   "cell_type": "markdown",
   "metadata": {
    "pycharm": {
     "name": "#%% md\n"
    }
   },
   "source": [
    "## Algorithme de Bellman"
   ]
  },
  {
   "cell_type": "code",
   "execution_count": 4,
   "metadata": {
    "pycharm": {
     "name": "#%%\n"
    }
   },
   "outputs": [
    {
     "name": "stdout",
     "output_type": "stream",
     "text": [
      "Algorithme de Bellman :\n",
      "Pour aller de STLE à BRNM, il y a 2367 et il faut passer par les arrêts ['BRNM', 'LEMB', 'UNION', 'BEYR', 'VILL', 'MARO', 'LACH', 'STLE'].\n"
     ]
    }
   ],
   "source": [
    "def bellman(arret_dep: str, arret_arriv: str): # -> tuple[list, int]\n",
    "    \"\"\"\n",
    "    Renvoie la distance la plus courte entre deux arrêts grâce à l'algorithme de Belmann.\n",
    "    :param arret_dep: nom de l'arrêt de départ\n",
    "    :type arret_dep: str\n",
    "    :param arret_arriv: nom de l'arrêt d'arrivée\n",
    "    :type arret_arriv: str\n",
    "    :return: tuple(listeArrets, distance)\n",
    "    :rtype: tuple\n",
    "    \"\"\"\n",
    "    # Initialisation de la liste des distances\n",
    "    distances_precedents = {sommet: [float('inf'), None] for sommet in noms_arrets}\n",
    "    # Pour le sommet de départ, on met la distance à 0.\n",
    "    distances_precedents[arret_dep][0] = 0\n",
    "\n",
    "    def relachement(sommet1: str, sommet2: str) -> bool:\n",
    "        \"\"\"\n",
    "        Relachement d'un sommet.\n",
    "        Cf. https://fr.wikipedia.org/wiki/Algorithme_de_Bellman\n",
    "        :param sommet1: sommet 1\n",
    "        :param sommet2: sommet 2\n",
    "        :return: Vrai si relachêment, sinon false.\n",
    "        \"\"\"\n",
    "        if distances_precedents[sommet1][0] + distance_arc(sommet1, sommet2) < distances_precedents[sommet2][0]:\n",
    "            distances_precedents[sommet2][0] = distances_precedents[sommet1][0] + distance_arc(sommet1, sommet2)\n",
    "            distances_precedents[sommet2][1] = sommet1\n",
    "            return True\n",
    "        return False\n",
    "\n",
    "\n",
    "    # De base on initialise la variable contenant le booléen du changement à False.\n",
    "    changement = False\n",
    "\n",
    "    # Boucle for allant de 0 à nombre de sommets - 1\n",
    "    for i in range(0, len(noms_arrets) - 2):\n",
    "        # On parcourt tous les sommets\n",
    "        for sommet_1 in noms_arrets:\n",
    "            # On parcourt tous les voisins du sommet\n",
    "            for sommet_2 in voisin(sommet_1):\n",
    "                # On relache le sommet\n",
    "                if changement and not relachement(sommet_1, sommet_2):\n",
    "                    break\n",
    "                changement = relachement(sommet_1, sommet_2)\n",
    "\n",
    "\n",
    "    sommetArr = distances_precedents[arret_arriv][1]\n",
    "    listeArrets = [sommetArr]\n",
    "    while sommetArr != arret_dep:\n",
    "        sommetArr = distances_precedents[sommetArr][1]\n",
    "        listeArrets.append(sommetArr)\n",
    "\n",
    "    listeArrets = [arret_arriv] + listeArrets\n",
    "\n",
    "    print(\"Algorithme de Bellman :\")\n",
    "    print(f\"Pour aller de {arret_dep} à {arret_arriv}, il y a {round(distances_precedents[arret_arriv][0])} et il faut passer par les arrêts {listeArrets}.\")\n",
    "    return listeArrets, round(distances_precedents[arret_arriv][0])\n",
    "\n",
    "listeDesArrets, distanceMin = bellman(\"STLE\", \"BRNM\")"
   ]
  },
  {
   "cell_type": "markdown",
   "metadata": {
    "pycharm": {
     "name": "#%% md\n"
    }
   },
   "source": [
    "## Algorithme de Dijkstra"
   ]
  },
  {
   "cell_type": "code",
   "execution_count": 5,
   "metadata": {
    "pycharm": {
     "name": "#%%\n"
    }
   },
   "outputs": [
    {
     "name": "stdout",
     "output_type": "stream",
     "text": [
      "Pour aller de STLE à BRNM, il y a 2367m et il faut passer par les arrêts ['STLE', 'LACH', 'MARO', 'VILL', 'BEYR', 'UNION', 'LEMB', 'BRNM'].\n"
     ]
    }
   ],
   "source": [
    "def djikstra(arret_dep, arret_arriv): # -> tuple[list, float]:\n",
    "    \"\"\"\n",
    "    Renvoie la distance la plus courte entre deux arrêts grâce à l'algorithme de Belmann.\n",
    "    Cf. https://fr.wikipedia.org/wiki/Algorithme_de_Dijkstra\n",
    "\n",
    "    :param arret_dep: arrêt de départ\n",
    "    :type arret_dep: str\n",
    "    :param arret_arriv: arrêt d'arrivée\n",
    "    :type arret_arriv: str\n",
    "    :return: une liste d'arrêts, la distance minimum\n",
    "    :rtype: list, int\n",
    "    \"\"\"\n",
    "\n",
    "    # Initialisation de la liste des distances\n",
    "    sommet = indice_som(arret_dep)\n",
    "    compteur = 0\n",
    "\n",
    "    dist = [float('inf')] * len(noms_arrets)\n",
    "    liste = [float('inf')] * len(noms_arrets)\n",
    "    pred = [float('inf')] * len(noms_arrets)\n",
    "    a_traiter = [i for i in range(len(noms_arrets))]\n",
    "    \n",
    "    # Afin d'éviter de passer par le sommet de départ, on l'enlève de la liste des sommets à traiter.\n",
    "    a_traiter.remove(indice_som(arret_dep))\n",
    "    pred[sommet] = sommet \n",
    "    dist[sommet] = 0 \n",
    "\n",
    "    while len(a_traiter) != 0:\n",
    "        for i in range(len(poids_bus)):\n",
    "            liste[i] = (float('inf'))\n",
    "            \n",
    "        for i in range(len(poids_bus)):\n",
    "            if i in a_traiter:\n",
    "                liste[i] = (poids_bus[sommet][i])\n",
    "\n",
    "        for i in range(len(liste)):\n",
    "            if liste[i] < float('inf'):\n",
    "                if dist[i] > (dist[sommet] + liste[i]):\n",
    "                    pred[i] = sommet\n",
    "                    dist[i] = dist[sommet]+liste[i]\n",
    "        for i in range(len(poids_bus)):\n",
    "            \n",
    "            liste[i] = (float('inf'))\n",
    "        for i in a_traiter:            \n",
    "            liste[i] = dist[i]\n",
    "        \n",
    "        compteur += 1\n",
    "        sommet = extract_min(liste)\n",
    "        a_traiter.remove(sommet)\n",
    "\n",
    "    chemin = []\n",
    "    sommet = indice_som(arret_arriv)\n",
    "\n",
    "    # Remontée afin d'avoir tous les sommets du chemin\n",
    "    while sommet != indice_som(arret_dep):\n",
    "        chemin.append(nom(sommet))\n",
    "        sommet = pred[sommet]\n",
    "    \n",
    "    chemin.append(arret_dep)\n",
    "    # Inversion de la liste afin d'obtenir les arrêts parcourus dans le bon ordre.\n",
    "    chemin.reverse()\n",
    "\n",
    "    print(f\"Pour aller de {arret_dep} à {arret_arriv}, il y a {round(dist[indice_som(arret_arriv)])}m et il faut passer par les arrêts {chemin}.\")\n",
    "    return chemin, round(dist[indice_som(arret_arriv)])\n",
    "\n",
    "listeDesArrets, distanceMin = djikstra(\"STLE\", \"BRNM\")"
   ]
  },
  {
   "cell_type": "markdown",
   "metadata": {},
   "source": [
    "## Algorithme de Floyd-Warshall"
   ]
  },
  {
   "cell_type": "code",
   "execution_count": 6,
   "metadata": {
    "pycharm": {
     "name": "#%%\n"
    }
   },
   "outputs": [
    {
     "name": "stdout",
     "output_type": "stream",
     "text": [
      "Algorithme de Floyd Warshall :\n",
      "Pour aller de STLE à BRNM, il y a 2367m et il faut passer par les arrêts ['STLE', 'LACH', 'MARO', 'VILL', 'BEYR', 'UNION', 'LEMB', 'BRNM'].\n"
     ]
    }
   ],
   "source": [
    "def floyd_warshall(arret_dep, arret_arriv): # -> tuple[list, int]:\n",
    "    \"\"\"\n",
    "    Renvoie la distance la plus courte entre deux arrêts grâce à l'algorithme de Floyd-Warshall.\n",
    "    :param arret_dep: arrêt de départ\n",
    "    :type arret_dep: str\n",
    "    :param arret_arriv: arrêt d'arrivée\n",
    "    :type arret_arriv: str\n",
    "    :return: une liste d'arrêts, la distance minimum\n",
    "    :rtype: list, int\n",
    "    \"\"\"\n",
    "    #Création de la matrice Mk\n",
    "    Mk = [[(0 if i == j else float(\"inf\")) for j in range(len(noms_arrets))] for i in range(len(noms_arrets))]\n",
    "    \n",
    "    #Initialisation de la matrice Mk\n",
    "    for i in range(len(noms_arrets)):\n",
    "        for j in voisin(noms_arrets[i]):\n",
    "            Mk[indice_som(noms_arrets[i])][indice_som(j)] = poids_bus[indice_som(noms_arrets[i])][indice_som(j)]\n",
    "\n",
    "    #Création de la matrice Pk\n",
    "    Pk = [[None for _ in range(len(noms_arrets))] for _ in range(len(noms_arrets))]\n",
    "\n",
    "    # #Initialisation de la matrice Pk\n",
    "    for i in range(len(noms_arrets)):\n",
    "        for j in voisin(noms_arrets[i]):\n",
    "            Pk[indice_som(j)][indice_som(noms_arrets[i])] = noms_arrets[i]\n",
    "\n",
    "    # #Boucle de Floyd-Warshall\n",
    "    for k in range(len(noms_arrets)):\n",
    "        colonnes = [i for i in range(len(noms_arrets)) if i != k and Mk[i][k] != float(\"inf\")]\n",
    "\n",
    "        #Creation de la liste lignes\n",
    "        lignes = [i for i in range(len(noms_arrets)) if i != k and Mk[k][i] != float(\"inf\")]\n",
    "\n",
    "        #Boucle de calcul de Mk\n",
    "        for i in colonnes:\n",
    "            for j in lignes:\n",
    "                if Mk[i][k] + Mk[k][j] < Mk[i][j]:\n",
    "                    Mk[i][j] = Mk[i][k] + Mk[k][j]\n",
    "                    Pk[i][j] = Pk[i][k]\n",
    "                    \n",
    "                    \n",
    "    # #Création de la liste des arrêts parcourus\n",
    "    parcours = []\n",
    "    arret_fin = arret_arriv\n",
    "    parcours.append(arret_fin)\n",
    "    \n",
    "    while Pk[indice_som(arret_fin)][indice_som(arret_dep)] is not None:\n",
    "        parcours.append(Pk[indice_som(arret_fin)][indice_som(arret_dep)])\n",
    "        arret_fin = Pk[indice_som(arret_fin)][indice_som(arret_dep)]\n",
    "\n",
    "    # Inversion de la liste afin d'obtenir les arrêts parcourus dans le bon ordre.\n",
    "    parcours.reverse()\n",
    "    \n",
    "    print(\"Algorithme de Floyd Warshall :\")\n",
    "    print(f\"Pour aller de {arret_dep} à {arret_arriv}, il y a {round(Mk[indice_som(arret_arriv)][indice_som(arret_dep)])}m et il faut passer par les arrêts {parcours}.\")\n",
    "    \n",
    "    return parcours,round(Mk[indice_som(arret_arriv)][indice_som(arret_dep)])\n",
    "\n",
    "listeDesArrets, distanceMin = floyd_warshall(\"STLE\", \"BRNM\")"
   ]
  },
  {
   "cell_type": "markdown",
   "metadata": {},
   "source": [
    "## Algorithme Astar (ou A étoile)"
   ]
  },
  {
   "cell_type": "code",
   "execution_count": 28,
   "metadata": {},
   "outputs": [],
   "source": [
    "#Formule de l'approximation heuristique avec la méthode de la distance euclidienne\n",
    "def calculHeuristique(arret_courant, arret_arriv):\n",
    "    #Formule de l'heuristique euclidienne\n",
    "    diffLongitude = abs(longitude(arret_courant) - longitude(arret_arriv))\n",
    "    diffLattitude = abs(lattitude(arret_courant) - lattitude(arret_arriv))\n",
    "    \n",
    "    return sqrt(diffLongitude**2 + diffLattitude**2)"
   ]
  },
  {
   "cell_type": "code",
   "execution_count": 29,
   "metadata": {},
   "outputs": [
    {
     "name": "stdout",
     "output_type": "stream",
     "text": [
      "Algortihme AStar (ou A étoile) :\n",
      "Pour aller de STLE à BRNM, il y a 2367 mètres et il faut passer par les arrêts ['STLE', 'LACH', 'MARO', 'VILL', 'BEYR', 'UNION', 'LEMB', 'BRNM'].\n"
     ]
    }
   ],
   "source": [
    "\"\"\"\n",
    "On crée une classe arretAstar qui va créer un objet\n",
    "contenant le nom de l'arrêt, son parent et les valeurs g,h et f nécessaire\n",
    "pour l'algorithme Astar  \n",
    "\"\"\"\n",
    "class arretAstar:\n",
    "    \"\"\"\n",
    "    Constructeur de la classe arretAstar.\n",
    "    Permet d'accéder facilement aux attributs de l'arrêt.\n",
    "    nom : nom de l'arrêt\n",
    "    parent : parent de l'arrêt\n",
    "    g : valeur g\n",
    "    h : valeur heuristique\n",
    "    f : valeur f\n",
    "    \"\"\"\n",
    "    def __init__(self, nom = None, parent = None):\n",
    "        \"\"\"\n",
    "        Constructeur de la classe arretAstar.\n",
    "        :param nom: Nom de l'arrêt\n",
    "        :param parent: Parent de l'arrêt\n",
    "        \"\"\"\n",
    "        self.nom = nom\n",
    "        self.parent = parent\n",
    "        \n",
    "        self.g = 0 #distance (à vol d'oiseau) entre l'arrêt actuel et l'arrêt de départ\n",
    "        self.h = 0 #distance estimé (à vol d'oiseau) entre l'arrêt actuel et l'arrêt d'arrivé\n",
    "        self.f = 0 #coût total du trajet \n",
    "\n",
    "def astar(arret_dep, arret_arriv): # -> tuple[list, float]:    \n",
    "    # Création les arrets de départ et de fin qui n'ont dont pas de parent.\n",
    "    arretDep = arretAstar(arret_dep, None)\n",
    "    arretFin = arretAstar(arret_arriv, None)\n",
    "    \n",
    "    # Initialiser les arrets de départ et de fin\n",
    "    arretDep.g = arretDep.h = arretDep.f = 0\n",
    "    arretFin.g = arretFin.h = arretFin.f = 0\n",
    "    \n",
    "    # Initialiser la liste ouverte et fermée\n",
    "    l_ouverte = []\n",
    "    l_fermee = []\n",
    "    \n",
    "    # Ajouter l'arrêt de depart dans la liste ouverte\n",
    "    l_ouverte.append(arretDep)\n",
    "    \n",
    "    while len(l_ouverte) != 0:        \n",
    "        #Récuperer l'arrêt courant\n",
    "        arret_courant = l_ouverte[0]\n",
    "        index_courant = 0\n",
    "        for index,arret in enumerate(l_ouverte):\n",
    "            if arret.f < arret_courant.f:\n",
    "                arret_courant = arret\n",
    "                index_courant = index\n",
    "        \n",
    "        # Enlever l'arrêt courant de la liste ouverte et le mettre dans la liste fermée\n",
    "        l_ouverte.pop(index_courant)\n",
    "        l_fermee.append(arret_courant)\n",
    "        \n",
    "        # Génerer le parcours si on est arrivé a l'arrêt d'arrivé\n",
    "        if arret_courant.nom == arret_arriv:\n",
    "            parcours = []\n",
    "            arretActuel = arret_courant\n",
    "            while arretActuel is not None:\n",
    "                parcours.append(arretActuel.nom)\n",
    "                arretActuel = arretActuel.parent\n",
    "            parcours = parcours[::-1] #inversion de la liste pour l'avoir dans le bon sens\n",
    "            \n",
    "            arretParDefaut = arret_dep \n",
    "            dist = 0\n",
    "\n",
    "            for i in range(1,len(parcours)):\n",
    "                dist += distance_arrets(arretParDefaut, parcours[i])\n",
    "                arretParDefaut = parcours[i]\n",
    "                \n",
    "            print(\"Algortihme AStar (ou A étoile) :\")\n",
    "            print(f\"Pour aller de {arret_dep} à {arret_arriv}, il y a {round(dist)} mètres et il faut passer par les arrêts {parcours}.\")\n",
    "            return parcours,round(dist)              \n",
    "        \n",
    "        # Créer les arrêt voisins\n",
    "        arret_voisin = []\n",
    "        voisins = voisin(arret_courant.nom)   \n",
    "        for nomArret in voisins:\n",
    "            nouvel_arret = arretAstar(nomArret,arret_courant)\n",
    "            arret_voisin.append(nouvel_arret)\n",
    "        \n",
    "        \"\"\"\n",
    "        Pour chaque voisin de l'arrêt courant, on regarde si:\n",
    "            -on ne l'a pas deja parcouru\n",
    "            -si on n'a pas deja un autre chemin menant à lui \n",
    "                plus rapide que celui qu'on regarde\n",
    "        Et on ajoute le voisin dans la liste des arrêt à regarder par la suite\n",
    "        \"\"\"\n",
    "        \n",
    "        for arretV in arret_voisin:\n",
    "            for elmt in l_fermee:\n",
    "                if elmt == arretV:\n",
    "                    continue\n",
    "                \n",
    "            arretV.g = arret_courant.g + distance_arrets(arretV.nom, arret_courant.nom)\n",
    "            arretV.h = calculHeuristique(arretV.nom, arret_courant.nom)\n",
    "            arretV.f = arretV.g + arretV.h\n",
    "            \n",
    "            for elmt in l_ouverte:\n",
    "                if elmt == arretV:\n",
    "                    continue\n",
    "            l_ouverte.append(arretV)\n",
    "\n",
    "listeDesArrets, distanceMin = astar(\"STLE\", \"BRNM\")"
   ]
  },
  {
   "cell_type": "markdown",
   "metadata": {},
   "source": [
    "## Comparaison de l'efficacité des différents algortihmes"
   ]
  },
  {
   "cell_type": "markdown",
   "metadata": {},
   "source": [
    "### Temps d'exécution de l'algorithme de Bellman"
   ]
  },
  {
   "cell_type": "code",
   "execution_count": 30,
   "metadata": {},
   "outputs": [
    {
     "name": "stdout",
     "output_type": "stream",
     "text": [
      "Algorithme de Bellman :\n",
      "Pour aller de STLE à BRNM, il y a 2367 et il faut passer par les arrêts ['BRNM', 'LEMB', 'UNION', 'BEYR', 'VILL', 'MARO', 'LACH', 'STLE'].\n",
      "0.7898335456848145 secondes\n"
     ]
    }
   ],
   "source": [
    "tempsDebut = time.time()\n",
    "bellman(\"STLE\", \"BRNM\")\n",
    "tempsFin = time.time()\n",
    "tempsExecution = tempsFin - tempsDebut\n",
    "print(f\"{tempsExecution} secondes\")"
   ]
  },
  {
   "cell_type": "markdown",
   "metadata": {},
   "source": [
    "### Temps d'exécution de l'algorithme de Djikstra"
   ]
  },
  {
   "cell_type": "code",
   "execution_count": 31,
   "metadata": {},
   "outputs": [
    {
     "name": "stdout",
     "output_type": "stream",
     "text": [
      "Pour aller de STLE à BRNM, il y a 2367m et il faut passer par les arrêts ['STLE', 'LACH', 'MARO', 'VILL', 'BEYR', 'UNION', 'LEMB', 'BRNM'].\n",
      "0.6194765567779541 secondes\n"
     ]
    }
   ],
   "source": [
    "tempsDebut = time.time()\n",
    "djikstra(\"STLE\", \"BRNM\")\n",
    "tempsFin = time.time()\n",
    "tempsExecution = tempsFin - tempsDebut\n",
    "print(f\"{tempsExecution} secondes\")"
   ]
  },
  {
   "cell_type": "markdown",
   "metadata": {},
   "source": [
    "### Temps d'exécution de l'algorithme de Floyd Warshall"
   ]
  },
  {
   "cell_type": "code",
   "execution_count": 32,
   "metadata": {},
   "outputs": [
    {
     "name": "stdout",
     "output_type": "stream",
     "text": [
      "Algorithme de Floyd Warshall :\n",
      "Pour aller de STLE à BRNM, il y a 2367m et il faut passer par les arrêts ['STLE', 'LACH', 'MARO', 'VILL', 'BEYR', 'UNION', 'LEMB', 'BRNM'].\n",
      "1.837216854095459 secondes\n"
     ]
    }
   ],
   "source": [
    "tempsDebut = time.time()\n",
    "floyd_warshall(\"STLE\", \"BRNM\")\n",
    "tempsFin = time.time()\n",
    "tempsExecution = tempsFin - tempsDebut\n",
    "print(f\"{tempsExecution} secondes\")"
   ]
  },
  {
   "cell_type": "markdown",
   "metadata": {},
   "source": [
    "### Temps d'exécution de l'algorithme de A star (ou A étoile)"
   ]
  },
  {
   "cell_type": "code",
   "execution_count": 33,
   "metadata": {},
   "outputs": [
    {
     "name": "stdout",
     "output_type": "stream",
     "text": [
      "Algortihme AStar (ou A étoile) :\n",
      "Pour aller de STLE à BRNM, il y a 2367 mètres et il faut passer par les arrêts ['STLE', 'LACH', 'MARO', 'VILL', 'BEYR', 'UNION', 'LEMB', 'BRNM'].\n",
      "1.0939078330993652 secondes\n"
     ]
    }
   ],
   "source": [
    "tempsDebut = time.time()\n",
    "astar(\"STLE\", \"BRNM\")\n",
    "tempsFin = time.time()\n",
    "tempsExecution = tempsFin - tempsDebut\n",
    "print(f\"{tempsExecution} secondes\")"
   ]
  },
  {
   "cell_type": "markdown",
   "metadata": {},
   "source": [
    "### Temps d'exécution des différents algorithmes\n",
    "#### Le temps d'exécution dépend aussi de la machine que nous utilison, voici les temps que nous avons chacun eu:\n",
    "    -Angel:\n",
    "        -Bellman : 0.81630539894104 secondes\n",
    "        -Djikstra : 0.9717111587524414 secondes\n",
    "        -Floyd Warshall : 1.8724801540374756 secondes\n",
    "        -A star (ou A étoile) : 1.172454833984375 secondes\n",
    "        \n",
    "    -Tom:\n",
    "        -Bellman : 0.11499510765075684 secondes\n",
    "        -Djikstra : 0.1066030216217041 secondes\n",
    "        -Floyd Warshall : 0.6053627967834473 secondes\n",
    "        -A star (ou A étoile) :  0.27118592262268066 secondes\n",
    "        \n",
    "    -PC de l'IUT:\n",
    "        -Bellman : 1.1510076522827148 secondes\n",
    "        -Djikstra : 1.0009922981262207 secondes\n",
    "        -Floyd Warshall : 3.3289341926574707 secondes\n",
    "        -A star (ou A étoile) : 2.101003408432007 secondes  \n",
    "    "
   ]
  }
 ],
 "metadata": {
  "kernelspec": {
   "display_name": "Python 3",
   "language": "python",
   "name": "python3"
  },
  "language_info": {
   "codemirror_mode": {
    "name": "ipython",
    "version": 3
   },
   "file_extension": ".py",
   "mimetype": "text/x-python",
   "name": "python",
   "nbconvert_exporter": "python",
   "pygments_lexer": "ipython3",
   "version": "3.8.5"
  }
 },
 "nbformat": 4,
 "nbformat_minor": 1
}
