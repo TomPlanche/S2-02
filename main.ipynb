{
 "cells": [
  {
   "cell_type": "markdown",
   "metadata": {},
   "source": [
    "# Étape 1 - Garica et Planche"
   ]
  },
  {
   "cell_type": "markdown",
   "metadata": {},
   "source": [
    "## Importation des bibliothèques disponnibles."
   ]
  },
  {
   "cell_type": "code",
   "execution_count": 26,
   "metadata": {
    "pycharm": {
     "name": "#%%\n"
    }
   },
   "outputs": [],
   "source": [
    "import json # Pour gérer le fichier donneesbus.json\n",
    "from math import sin, cos, acos, pi\n",
    "from copy import deepcopy"
   ]
  },
  {
   "cell_type": "markdown",
   "metadata": {},
   "source": [
    "## Ouverture du fichier donneesbus.json et création du dictionnaire."
   ]
  },
  {
   "cell_type": "code",
   "execution_count": 27,
   "metadata": {},
   "outputs": [],
   "source": [
    "with open(\"Fichiers/donneesBus.json\") as fic_donnees_bus:\n",
    "    donneesBus = json.load(fic_donnees_bus)"
   ]
  },
  {
   "cell_type": "markdown",
   "metadata": {
    "pycharm": {
     "name": "#%% md\n"
    }
   },
   "source": [
    "## Travail à réaliser."
   ]
  },
  {
   "cell_type": "code",
   "execution_count": 28,
   "metadata": {
    "pycharm": {
     "name": "#%%\n"
    }
   },
   "outputs": [],
   "source": [
    "# Création d'une liste des noms des arrêts.\n",
    "noms_arrets = list(donneesBus.keys())\n",
    "\n",
    "\n",
    "def nom(ind: int) -> str:\n",
    "    \"\"\"\n",
    "    Renvoie le nom de l'arret à l'indice ind\n",
    "    :param ind: Indice de l'arrêt\n",
    "    :type ind: int\n",
    "    :return: nom de l'arrêt\n",
    "    :rtype: str\n",
    "    \"\"\"\n",
    "    return noms_arrets[ind]\n",
    "\n",
    "\n",
    "def indice_som(nom_som: str) -> int:\n",
    "    \"\"\"\n",
    "    Renvoie l'indice de l'arrêt à partir de son nom\n",
    "    :param nom_som: Nom de l'arrêt\n",
    "    :type nom_som: str\n",
    "    :return: indice de l'arrêt\n",
    "    :rtype: int\n",
    "    \"\"\"\n",
    "    return noms_arrets.index(nom_som)\n",
    "\n",
    "\n",
    "def lattitude(nom_som: str) -> float:\n",
    "    \"\"\"\n",
    "    Renvoie la lattitude de l'arrêt à partir de son nom\n",
    "    :param nom_som: Nom de l'arrêt\n",
    "    :type nom_som: str\n",
    "    :return: lattitude de l'arrêt\n",
    "    :rtype: float\n",
    "    \"\"\"\n",
    "    return donneesBus[nom_som][0]\n",
    "\n",
    "\n",
    "def longitude(nom_som: str) -> float:\n",
    "    \"\"\"\n",
    "    Renvoie la longitude de l'arrêt à partir de son nom\n",
    "    :param nom_som: Nom de l'arrêt\n",
    "    :type nom_som: str\n",
    "    :return: longitude de l'arrêt\n",
    "    :rtype: float\n",
    "    \"\"\"\n",
    "    return donneesBus[nom_som][1]\n",
    "\n",
    "\n",
    "def voisin(nom_som: str) -> list:\n",
    "    \"\"\"\n",
    "    Renvoie la liste des arrêts voisins à partir de son nom\n",
    "    :param nom_som: Nom de l'arrêt\n",
    "    :type nom_som: str\n",
    "    :return: liste des arrêts voisins\n",
    "    :rtype: list\n",
    "    \"\"\"\n",
    "    return donneesBus[nom_som][2]\n",
    "\n",
    "\n",
    "# Création de la liste d'adjacence sous forme d'une liste.\n",
    "mat_bus = [\n",
    "    [1 if nom_som in voisin(nom_som1) else 0 for nom_som in noms_arrets] for nom_som1 in noms_arrets\n",
    "]\n",
    "\n",
    "# Création de la liste d'adjacence sous forme d'un dictionnaire.\n",
    "dict_bus = {\n",
    "    nom_arret: voisin(nom_arret) for nom_arret in noms_arrets\n",
    "}\n",
    "\n",
    "\n",
    "def distanceGPS(latA: float, latB: float, longA: float, longB: float) -> float:\n",
    "    \"\"\"\n",
    "    Retourne la distance en mètres entre deux points GPS.\n",
    "    :param latA: lattitude du premier point\n",
    "    :param latB: lattitude du deuxième point\n",
    "    :param longA: longitude du premier point\n",
    "    :param longB: longitude du deuxième point\n",
    "    :return:\n",
    "    \"\"\"\n",
    "    ltA = latA / 180 * pi\n",
    "    ltB = latB / 180 * pi\n",
    "    loA = longA / 180 * pi\n",
    "    loB = longB / 180 * pi\n",
    "    # Rayon de la terre en mètres (sphère IAG-GRS80)\n",
    "    RT = 6378137\n",
    "    # angle en radians entre les 2 points\n",
    "    S = acos(round(sin(ltA) * sin(ltB) + cos(ltA) * cos(ltB) * cos(abs(loB - loA)), 14))\n",
    "    # distance entre les 2 points, comptée sur un arc de grand cercle\n",
    "    return S * RT\n",
    "\n",
    "\n",
    "def distance_arrets(arret1: str, arret2: str) -> float:\n",
    "    \"\"\"\n",
    "    Renvoie la distance à vol d'oiseau entre deux arrêts.\n",
    "    :param arret1: nom de l'arrêt 1\n",
    "    :type arret1: str\n",
    "    :param arret2: nom de l'arrêt 2\n",
    "    :type arret2: str\n",
    "    :return: distance entre les deux arrêts\n",
    "    :rtype: float\n",
    "    \"\"\"\n",
    "    return distanceGPS(\n",
    "        lattitude(arret1),\n",
    "        lattitude(arret2),\n",
    "        longitude(arret1),\n",
    "        longitude(arret2),\n",
    "    )\n",
    "\n",
    "\n",
    "def distance_arc(arret1: str, arret2: str) -> float:\n",
    "    \"\"\"\n",
    "    Renvoie la distance à vol d'oiseau entre deux arrêts s'ils sont.\n",
    "    :param arret1: nom de l'arrêt 1\n",
    "    :type arret1: str\n",
    "    :param arret2: nom de l'arrêt 2\n",
    "    :type arret2: str\n",
    "    :return: distance entre les deux arrêts\n",
    "    :rtype: float\n",
    "    \"\"\"\n",
    "    return distanceGPS(\n",
    "        lattitude(arret1),\n",
    "        lattitude(arret2),\n",
    "        longitude(arret1),\n",
    "        longitude(arret2),\n",
    "    ) if arret2 in voisin(arret1) else float(\"inf\")\n",
    "\n",
    "\n",
    "# Création de la matrice des poids sous forme d'une liste.\n",
    "poids_bus = [\n",
    "    [distance_arc(nom_som1, nom_som2) for nom_som2 in noms_arrets] for nom_som1 in noms_arrets\n",
    "]"
   ]
  },
  {
   "cell_type": "markdown",
   "metadata": {
    "pycharm": {
     "name": "#%% md\n"
    }
   },
   "source": [
    "## Algorithme de Bellman."
   ]
  },
  {
   "cell_type": "code",
   "execution_count": 29,
   "outputs": [
    {
     "name": "stdout",
     "output_type": "stream",
     "text": [
      "Pour aller de AVRI à PLGA, il y a 541.381735339661 et il faut passer par les arrêts ['PLGA', 'AVRI'].\n",
      "(['PLGA', 'AVRI'], 541)\n",
      "541.381735339661\n",
      "Pour aller de AVRI à PLGA, il y a 541.381735339661 et il faut passer par les arrêts ['PLGA', 'AVRI'].\n"
     ]
    }
   ],
   "source": [
    "def bellman(arret_dep: str, arret_arriv: str) -> tuple:\n",
    "    \"\"\"\n",
    "    Renvoie la distance la plus courte entre deux arrêts grâce à l'algorithme de Belmann.\n",
    "    :param arret_dep: nom de l'arrêt de départ\n",
    "    :type arret_dep: str\n",
    "    :param arret_arriv: nom de l'arrêt d'arrivée\n",
    "    :type arret_arriv: str\n",
    "    :return: tuple(listeArrets, distance)\n",
    "    :rtype: tuple\n",
    "    \"\"\"\n",
    "    # Initialisation de la liste des distances\n",
    "    distances_precedents = {sommet: [float('inf'), None] for sommet in noms_arrets}\n",
    "    # Pour le sommet de départ, on met la distance à 0.\n",
    "    distances_precedents[arret_dep][0] = 0\n",
    "\n",
    "    def relachement(sommet1: str, sommet2: str) -> bool:\n",
    "        \"\"\"\n",
    "        Relachement d'un sommet.\n",
    "        Cf. https://fr.wikipedia.org/wiki/Algorithme_de_Bellman\n",
    "        :param sommet1: sommet 1\n",
    "        :param sommet2: sommet 2\n",
    "        :return: Vrai si relachêment, sinon false.\n",
    "        \"\"\"\n",
    "        if distances_precedents[sommet1][0] + distance_arc(sommet1, sommet2) < distances_precedents[sommet2][0]:\n",
    "            distances_precedents[sommet2][0] = distances_precedents[sommet1][0] + distance_arc(sommet1, sommet2)\n",
    "            distances_precedents[sommet2][1] = sommet1\n",
    "            return True\n",
    "        return False\n",
    "\n",
    "\n",
    "    # De base on initialise la variable contenant le booléen du changement à False.\n",
    "    changement = False\n",
    "\n",
    "    # Boucle for allant de 0 à nombre de sommets - 1\n",
    "    for i in range(0, len(noms_arrets) - 2):\n",
    "        # On parcourt tous les sommets\n",
    "        for sommet_1 in noms_arrets:\n",
    "            # On parcourt tous les voisins du sommet\n",
    "            for sommet_2 in voisin(sommet_1):\n",
    "                # On relache le sommet\n",
    "                if changement and not relachement(sommet_1, sommet_2):\n",
    "                    break\n",
    "                changement = relachement(sommet_1, sommet_2)\n",
    "\n",
    "\n",
    "    sommetArr = distances_precedents[arret_arriv][1]\n",
    "    listeArrets = [sommetArr]\n",
    "    while sommetArr != arret_dep:\n",
    "        sommetArr = distances_precedents[sommetArr][1]\n",
    "        listeArrets.append(sommetArr)\n",
    "\n",
    "    listeArrets = [arret_arriv] + listeArrets\n",
    "\n",
    "    print(f\"Pour aller de {arret_dep} à {arret_arriv}, il y a {distances_precedents[arret_arriv][0]} et il faut passer par les arrêts {listeArrets}.\")\n",
    "    \n",
    "\n",
    "    return listeArrets, round(distances_precedents[arret_arriv][0])\n",
    "\n",
    "# print(bellman(noms_arrets[1], voisin(noms_arrets[1])[0]))\n",
    "# print(distance_arrets(noms_arrets[1], voisin(noms_arrets[1])[0]))\n",
    "a = bellman(noms_arrets[1], voisin(noms_arrets[1])[0])"
   ],
   "metadata": {
    "collapsed": false,
    "pycharm": {
     "name": "#%%\n"
    }
   }
  },
  {
   "cell_type": "markdown",
   "source": [
    "## Algorithme de Dijkstra. (pas terminé)"
   ],
   "metadata": {
    "collapsed": false,
    "pycharm": {
     "name": "#%% md\n"
    }
   }
  },
  {
   "cell_type": "code",
   "execution_count": 29,
   "outputs": [],
   "source": [],
   "metadata": {
    "collapsed": false,
    "pycharm": {
     "name": "#%%\n"
    }
   }
  },
  {
   "cell_type": "markdown",
   "source": [
    "## Algorithme de Floyd-Warshall."
   ],
   "metadata": {
    "collapsed": false
   }
  },
  {
   "cell_type": "code",
   "execution_count": 30,
   "outputs": [],
   "source": [
    "def floyd_warshall(arret_dep: str, arret_arriv: str) -> tuple:\n",
    "    \"\"\"\n",
    "    Renvoie la distance la plus courte entre deux arrêts grâce à l'algorithme de Floyd-Warshall.\n",
    "    :param arret_dep: nom de l'arrêt de départ\n",
    "    :type arret_dep: str\n",
    "    :param arret_arriv: nom de l'arrêt d'arrivée\n",
    "    :type arret_arriv: str\n",
    "    :return: tuple(listeArrets, distance)\n",
    "    :rtype: tuple\n",
    "    \"\"\"\n",
    "    matrice = deepcopy(mat_bus)\n",
    "    liste = [arret_dep]\n",
    "    \n",
    "    # matrice_pred = [\n",
    "    #     [sommet_pred] for sommet in noms_arrets\n",
    "    # ]\n",
    "\n"
   ],
   "metadata": {
    "collapsed": false,
    "pycharm": {
     "name": "#%%\n"
    }
   }
  }
 ],
 "metadata": {
  "kernelspec": {
   "display_name": "Python 3 (ipykernel)",
   "language": "python",
   "name": "python3"
  },
  "language_info": {
   "codemirror_mode": {
    "name": "ipython",
    "version": 3
   },
   "file_extension": ".py",
   "mimetype": "text/x-python",
   "name": "python",
   "nbconvert_exporter": "python",
   "pygments_lexer": "ipython3",
   "version": "3.10.2"
  }
 },
 "nbformat": 4,
 "nbformat_minor": 1
}