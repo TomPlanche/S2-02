{
 "cells": [
  {
   "cell_type": "markdown",
   "metadata": {},
   "source": [
    "# Étape 1 - Garica et Planche"
   ]
  },
  {
   "cell_type": "markdown",
   "metadata": {},
   "source": [
    "## Importation des bibliothèques disponnibles."
   ]
  },
  {
   "cell_type": "code",
   "execution_count": 109,
   "metadata": {
    "pycharm": {
     "name": "#%%\n"
    }
   },
   "outputs": [],
   "source": [
    "import json # Pour gérer le fichier donneesbus.json\n",
    "from math import sin, cos, acos, pi"
   ]
  },
  {
   "cell_type": "markdown",
   "metadata": {},
   "source": [
    "## Ouverture du fichier donneesbus.json et création du dictionnaire."
   ]
  },
  {
   "cell_type": "code",
   "execution_count": 110,
   "metadata": {},
   "outputs": [],
   "source": [
    "with open(\"Fichiers/donneesBus.json\") as fic_donnees_bus:\n",
    "    donneesBus = json.load(fic_donnees_bus)"
   ]
  },
  {
   "cell_type": "markdown",
   "metadata": {
    "pycharm": {
     "name": "#%% md\n"
    }
   },
   "source": [
    "## Travail à réaliser."
   ]
  },
  {
   "cell_type": "code",
   "execution_count": 111,
   "metadata": {
    "pycharm": {
     "name": "#%%\n"
    }
   },
   "outputs": [],
   "source": [
    "# Création d'une liste des noms des arrêts.\n",
    "noms_arrets = list(donneesBus.keys())\n",
    "\n",
    "\n",
    "def nom(ind: int) -> str:\n",
    "    \"\"\"\n",
    "    Renvoie le nom de l'arret à l'indice ind\n",
    "    :param ind: Indice de l'arrêt\n",
    "    :type ind: int\n",
    "    :return: nom de l'arrêt\n",
    "    :rtype: str\n",
    "    \"\"\"\n",
    "    return noms_arrets[ind]\n",
    "\n",
    "\n",
    "def indice_som(nom_som: str) -> int:\n",
    "    \"\"\"\n",
    "    Renvoie l'indice de l'arrêt à partir de son nom\n",
    "    :param nom_som: Nom de l'arrêt\n",
    "    :type nom_som: str\n",
    "    :return: indice de l'arrêt\n",
    "    :rtype: int\n",
    "    \"\"\"\n",
    "    return noms_arrets.index(nom_som)\n",
    "\n",
    "\n",
    "def lattitude(nom_som: str) -> float:\n",
    "    \"\"\"\n",
    "    Renvoie la lattitude de l'arrêt à partir de son nom\n",
    "    :param nom_som: Nom de l'arrêt\n",
    "    :type nom_som: str\n",
    "    :return: lattitude de l'arrêt\n",
    "    :rtype: float\n",
    "    \"\"\"\n",
    "    return donneesBus[nom_som][0]\n",
    "\n",
    "\n",
    "def longitude(nom_som: str) -> float:\n",
    "    \"\"\"\n",
    "    Renvoie la longitude de l'arrêt à partir de son nom\n",
    "    :param nom_som: Nom de l'arrêt\n",
    "    :type nom_som: str\n",
    "    :return: longitude de l'arrêt\n",
    "    :rtype: float\n",
    "    \"\"\"\n",
    "    return donneesBus[nom_som][1]\n",
    "\n",
    "\n",
    "def voisin(nom_som: str) -> list:\n",
    "    \"\"\"\n",
    "    Renvoie la liste des arrêts voisins à partir de son nom\n",
    "    :param nom_som: Nom de l'arrêt\n",
    "    :type nom_som: str\n",
    "    :return: liste des arrêts voisins\n",
    "    :rtype: list\n",
    "    \"\"\"\n",
    "    return donneesBus[nom_som][2]\n",
    "\n",
    "def extract_min(liste):\n",
    "    \"\"\"\n",
    "    Retourne le sommet de poids minimum de la liste liste.\n",
    "    Cf. Cours Mme Bruyère\n",
    "    \n",
    "    :param liste : liste des arrets\n",
    "    :type liste: list\n",
    "    :return: le sommet de poids minimum\n",
    "    :rtype: int\n",
    "    \"\"\"\n",
    "    minS = float(\"inf\")\n",
    "    valS = float(\"inf\")\n",
    "\n",
    "    for i in range (len(liste)):\n",
    "        if liste[i] < valS:\n",
    "            minS = i\n",
    "            valS = liste[i]\n",
    "\n",
    "    return minS\n",
    "\n",
    "# Création de la liste d'adjacence sous forme d'une liste.\n",
    "mat_bus = [\n",
    "    [1 if nom_som in voisin(nom_som1) else 0 for nom_som in noms_arrets] for nom_som1 in noms_arrets\n",
    "]\n",
    "\n",
    "# Création de la liste d'adjacence sous forme d'un dictionnaire.\n",
    "dict_bus = {\n",
    "    nom_arret: voisin(nom_arret) for nom_arret in noms_arrets\n",
    "}\n",
    "\n",
    "\n",
    "def distanceGPS(latA: float, latB: float, longA: float, longB: float) -> float:\n",
    "    \"\"\"\n",
    "    Retourne la distance en mètres entre deux points GPS.\n",
    "    :param latA: lattitude du premier point\n",
    "    :param latB: lattitude du deuxième point\n",
    "    :param longA: longitude du premier point\n",
    "    :param longB: longitude du deuxième point\n",
    "    :return:\n",
    "    \"\"\"\n",
    "    ltA = latA / 180 * pi\n",
    "    ltB = latB / 180 * pi\n",
    "    loA = longA / 180 * pi\n",
    "    loB = longB / 180 * pi\n",
    "    # Rayon de la terre en mètres (sphère IAG-GRS80)\n",
    "    RT = 6378137\n",
    "    # angle en radians entre les 2 points\n",
    "    S = acos(round(sin(ltA) * sin(ltB) + cos(ltA) * cos(ltB) * cos(abs(loB - loA)), 14))\n",
    "    # distance entre les 2 points, comptée sur un arc de grand cercle\n",
    "    return S * RT\n",
    "\n",
    "\n",
    "def distance_arrets(arret1: str, arret2: str) -> float:\n",
    "    \"\"\"\n",
    "    Renvoie la distance à vol d'oiseau entre deux arrêts.\n",
    "    :param arret1: nom de l'arrêt 1\n",
    "    :type arret1: str\n",
    "    :param arret2: nom de l'arrêt 2\n",
    "    :type arret2: str\n",
    "    :return: distance entre les deux arrêts\n",
    "    :rtype: float\n",
    "    \"\"\"\n",
    "    return distanceGPS(\n",
    "        lattitude(arret1),\n",
    "        lattitude(arret2),\n",
    "        longitude(arret1),\n",
    "        longitude(arret2),\n",
    "    )\n",
    "\n",
    "\n",
    "def distance_arc(arret1: str, arret2: str) -> float:\n",
    "    \"\"\"\n",
    "    Renvoie la distance à vol d'oiseau entre deux arrêts s'ils sont.\n",
    "    :param arret1: nom de l'arrêt 1\n",
    "    :type arret1: str\n",
    "    :param arret2: nom de l'arrêt 2\n",
    "    :type arret2: str\n",
    "    :return: distance entre les deux arrêts\n",
    "    :rtype: float\n",
    "    \"\"\"\n",
    "    return distanceGPS(\n",
    "        lattitude(arret1),\n",
    "        lattitude(arret2),\n",
    "        longitude(arret1),\n",
    "        longitude(arret2),\n",
    "    ) if arret2 in voisin(arret1) else float(\"inf\")\n",
    "\n",
    "\n",
    "# Création de la matrice des poids sous forme d'une liste.\n",
    "poids_bus = [\n",
    "    [distance_arc(nom_som1, nom_som2) for nom_som2 in noms_arrets] for nom_som1 in noms_arrets\n",
    "]"
   ]
  },
  {
   "cell_type": "markdown",
   "metadata": {
    "pycharm": {
     "name": "#%% md\n"
    }
   },
   "source": [
    "## Algorithme de Bellman."
   ]
  },
  {
   "cell_type": "code",
   "execution_count": 112,
   "outputs": [
    {
     "name": "stdout",
     "output_type": "stream",
     "text": [
      "Pour aller de AVRI à PLGA, il y a 541.381735339661 et il faut passer par les arrêts ['PLGA', 'AVRI'].\n"
     ]
    }
   ],
   "source": [
    "def bellman(arret_dep: str, arret_arriv: str) -> tuple:\n",
    "    \"\"\"\n",
    "    Renvoie la distance la plus courte entre deux arrêts grâce à l'algorithme de Belmann.\n",
    "    :param arret_dep: nom de l'arrêt de départ\n",
    "    :type arret_dep: str\n",
    "    :param arret_arriv: nom de l'arrêt d'arrivée\n",
    "    :type arret_arriv: str\n",
    "    :return: tuple(listeArrets, distance)\n",
    "    :rtype: tuple\n",
    "    \"\"\"\n",
    "    # Initialisation de la liste des distances\n",
    "    distances_precedents = {sommet: [float('inf'), None] for sommet in noms_arrets}\n",
    "    # Pour le sommet de départ, on met la distance à 0.\n",
    "    distances_precedents[arret_dep][0] = 0\n",
    "\n",
    "    def relachement(sommet1: str, sommet2: str) -> bool:\n",
    "        \"\"\"\n",
    "        Relachement d'un sommet.\n",
    "        Cf. https://fr.wikipedia.org/wiki/Algorithme_de_Bellman\n",
    "        :param sommet1: sommet 1\n",
    "        :param sommet2: sommet 2\n",
    "        :return: Vrai si relachêment, sinon false.\n",
    "        \"\"\"\n",
    "        if distances_precedents[sommet1][0] + distance_arc(sommet1, sommet2) < distances_precedents[sommet2][0]:\n",
    "            distances_precedents[sommet2][0] = distances_precedents[sommet1][0] + distance_arc(sommet1, sommet2)\n",
    "            distances_precedents[sommet2][1] = sommet1\n",
    "            return True\n",
    "        return False\n",
    "\n",
    "\n",
    "    # De base on initialise la variable contenant le booléen du changement à False.\n",
    "    changement = False\n",
    "\n",
    "    # Boucle for allant de 0 à nombre de sommets - 1\n",
    "    for i in range(0, len(noms_arrets) - 2):\n",
    "        # On parcourt tous les sommets\n",
    "        for sommet_1 in noms_arrets:\n",
    "            # On parcourt tous les voisins du sommet\n",
    "            for sommet_2 in voisin(sommet_1):\n",
    "                # On relache le sommet\n",
    "                if changement and not relachement(sommet_1, sommet_2):\n",
    "                    break\n",
    "                changement = relachement(sommet_1, sommet_2)\n",
    "\n",
    "\n",
    "    sommetArr = distances_precedents[arret_arriv][1]\n",
    "    listeArrets = [sommetArr]\n",
    "    while sommetArr != arret_dep:\n",
    "        sommetArr = distances_precedents[sommetArr][1]\n",
    "        listeArrets.append(sommetArr)\n",
    "\n",
    "    listeArrets = [arret_arriv] + listeArrets\n",
    "\n",
    "    print(f\"Pour aller de {arret_dep} à {arret_arriv}, il y a {round(distances_precedents[arret_arriv][0])} et il faut passer par les arrêts {listeArrets}.\")\n",
    "    \n",
    "\n",
    "    return listeArrets, round(distances_precedents[arret_arriv][0])\n",
    "\n",
    "# print(bellman(noms_arrets[1], voisin(noms_arrets[1])[0]))\n",
    "# print(distance_arrets(noms_arrets[1], voisin(noms_arrets[1])[0]))\n",
    "a = bellman(\"STLE\", \"BRNM\")"
   ],
   "metadata": {
    "collapsed": false,
    "pycharm": {
     "name": "#%%\n"
    }
   }
  },
  {
   "cell_type": "markdown",
   "source": [
    "## Algorithme de Dijkstra. (pas terminé)"
   ],
   "metadata": {
    "collapsed": false,
    "pycharm": {
     "name": "#%% md\n"
    }
   }
  },
  {
   "cell_type": "code",
   "execution_count": 113,
   "outputs": [
    {
     "name": "stdout",
     "output_type": "stream",
     "text": [
      "Pour aller de STLE à BRNM, il y a 2367m et il faut passer par les arrêts ['STLE', 'LACH', 'MARO', 'VILL', 'BEYR', 'UNION', 'LEMB', 'BRNM'].\n"
     ]
    }
   ],
   "source": [
    "def djikstra(arret_dep, arret_arriv):\n",
    "    \"\"\"\n",
    "    Renvoie la distance la plus courte entre deux arrêts grâce à l'algorithme de Belmann.\n",
    "    Cf. https://fr.wikipedia.org/wiki/Algorithme_de_Dijkstra\n",
    "\n",
    "    :param arret_dep: arret de départ\n",
    "    :type arret_dep: str\n",
    "    :param arret_arriv: arret d'arrivée\n",
    "    :type arret_arriv: str\n",
    "    :return: une liste d'arrêts, la distance minimum\n",
    "    :rtype: list, int\n",
    "    \"\"\"\n",
    "\n",
    "    # Initialisation de la liste des distances\n",
    "    sommet = indice_som(arret_dep)\n",
    "    compteur = 0\n",
    "\n",
    "    dist = [float('inf')] * len(noms_arrets)\n",
    "    liste = [float('inf')] * len(noms_arrets)\n",
    "    pred = [float('inf')] * len(noms_arrets)\n",
    "    a_traiter = [i for i in range(len(noms_arrets))]\n",
    "    \n",
    "    # Afin d'éviter de passer par le sommet de départ, on l'enlève de la liste des sommets à traiter.\n",
    "    a_traiter.remove(indice_som(arret_dep))\n",
    "    pred[sommet] = sommet \n",
    "    dist[sommet] = 0 \n",
    "\n",
    "    while len(a_traiter) != 0:\n",
    "        for i in range(len(poids_bus)):\n",
    "            liste[i] = (float('inf'))\n",
    "            \n",
    "        for i in range(len(poids_bus)):\n",
    "            if i in a_traiter:\n",
    "                liste[i] = (poids_bus[sommet][i])\n",
    "\n",
    "        for i in range(len(liste)):\n",
    "            if liste[i] < float('inf'):\n",
    "                if dist[i] > (dist[sommet] + liste[i]):\n",
    "                    pred[i] = sommet\n",
    "                    dist[i] = dist[sommet]+liste[i]\n",
    "        for i in range(len(poids_bus)):\n",
    "            \n",
    "            liste[i] = (float('inf'))\n",
    "        for i in a_traiter:            \n",
    "            liste[i] = dist[i]\n",
    "        \n",
    "        compteur += 1\n",
    "        sommet = extract_min(liste)\n",
    "        a_traiter.remove(sommet)\n",
    "\n",
    "    chemin = []\n",
    "    sommet = indice_som(arret_arriv)\n",
    "\n",
    "    # Remontée afin d'avoir tous les sommets du chemin\n",
    "    while sommet != indice_som(arret_dep):\n",
    "        chemin.append(nom(sommet))\n",
    "        sommet = pred[sommet]\n",
    "    \n",
    "    chemin.append(arret_dep)\n",
    "    chemin.reverse()\n",
    "\n",
    "    print(f\"Pour aller de {arret_dep} à {arret_arriv}, il y a {round(dist[indice_som(arret_arriv)])}m et il faut passer par les arrêts {chemin}.\")\n",
    "\n",
    "\n",
    "djikstra(\"STLE\", \"BRNM\")\n"
   ],
   "metadata": {
    "collapsed": false,
    "pycharm": {
     "name": "#%%\n"
    }
   }
  },
  {
   "cell_type": "markdown",
   "source": [
    "## Algorithme de Floyd-Warshall."
   ],
   "metadata": {
    "collapsed": false
   }
  },
  {
   "cell_type": "code",
   "execution_count": 114,
   "outputs": [
    {
     "name": "stdout",
     "output_type": "stream",
     "text": [
      "Pour aller de STLE à BRNM, il y a 2367m et il faut passer par les arrêts ['STLE', 'LACH', 'MARO', 'VILL', 'BEYR', 'UNION', 'LEMB', 'BRNM'].\n"
     ]
    }
   ],
   "source": [
    "def floyd_warshall(arret_dep, arret_arriv):\n",
    "    \"\"\"\n",
    "    Renvoie la distance la plus courte entre deux arrêts grâce à l'algorithme de Floyd-Warshall.\n",
    "    :param arret_dep: arret de départ\n",
    "    :type arret_dep: str\n",
    "    :param arret_arriv: arret d'arrivée\n",
    "    :type arret_arriv: str\n",
    "    :return: une liste d'arrêts, la distance minimum\n",
    "    :rtype: list, int\n",
    "    \"\"\"\n",
    "    #Création de la matrice Mk\n",
    "    Mk = [[(0 if i == j else float(\"inf\")) for j in range(len(noms_arrets))] for i in range(len(noms_arrets))]\n",
    "\n",
    "\n",
    "\n",
    "    #Initialisation de la matrice Mk\n",
    "    for i in range(len(noms_arrets)):\n",
    "        for j in voisin(noms_arrets[i]):\n",
    "            Mk[indice_som(noms_arrets[i])][indice_som(j)] = poids_bus[indice_som(noms_arrets[i])][indice_som(j)]\n",
    "\n",
    "\n",
    "\n",
    "    #Création de la matrice Pk\n",
    "    Pk = [[None for _ in range(len(noms_arrets))] for _ in range(len(noms_arrets))]\n",
    "\n",
    "\n",
    "    # #Initialisation de la matrice Pk\n",
    "    for i in range(len(noms_arrets)):\n",
    "        for j in voisin(noms_arrets[i]):\n",
    "            Pk[indice_som(j)][indice_som(noms_arrets[i])] = noms_arrets[i]\n",
    "\n",
    "    # #Boucle de Floyd-Warshall\n",
    "    for k in range(len(noms_arrets)):\n",
    "        colonnes = [i for i in range(len(noms_arrets)) if i != k and Mk[i][k] != float(\"inf\")]\n",
    "\n",
    "        #Creation de la liste lignes\n",
    "        lignes = [i for i in range(len(noms_arrets)) if i != k and Mk[k][i] != float(\"inf\")]\n",
    "\n",
    "        #Boucle de calcul de Mk\n",
    "        for i in colonnes:\n",
    "            for j in lignes:\n",
    "                if Mk[i][k] + Mk[k][j] < Mk[i][j]:\n",
    "                    Mk[i][j] = Mk[i][k] + Mk[k][j]\n",
    "                    Pk[i][j] = Pk[i][k]\n",
    "                    \n",
    "                    \n",
    "    # #Création de la liste des arrêts parcourus\n",
    "    parcours = []\n",
    "    arret_fin = arret_arriv\n",
    "    parcours.append(arret_fin)\n",
    "    \n",
    "    while Pk[indice_som(arret_fin)][indice_som(arret_dep)] is not None:\n",
    "        parcours.append(Pk[indice_som(arret_fin)][indice_som(arret_dep)])\n",
    "        arret_fin = Pk[indice_som(arret_fin)][indice_som(arret_dep)]\n",
    "    \n",
    "    parcours.reverse()\n",
    "    print(f\"Pour aller de {arret_dep} à {arret_arriv}, il y a {round(Mk[indice_som(arret_arriv)][indice_som(arret_dep)])}m et il faut passer par les arrêts {parcours}.\")\n",
    "\n",
    "floyd_warshall(\"STLE\", \"BRNM\")"
   ],
   "metadata": {
    "collapsed": false,
    "pycharm": {
     "name": "#%%\n"
    }
   }
  }
 ],
 "metadata": {
  "kernelspec": {
   "display_name": "Python 3 (ipykernel)",
   "language": "python",
   "name": "python3"
  },
  "language_info": {
   "codemirror_mode": {
    "name": "ipython",
    "version": 3
   },
   "file_extension": ".py",
   "mimetype": "text/x-python",
   "name": "python",
   "nbconvert_exporter": "python",
   "pygments_lexer": "ipython3",
   "version": "3.10.2"
  }
 },
 "nbformat": 4,
 "nbformat_minor": 1
}